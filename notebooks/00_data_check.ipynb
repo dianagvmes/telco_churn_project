import os
import pandas as pd
from scripts.cleaning import load_file, check_data, clean_column_names, merge_two, fill_missing, save_csv

file_path = "/Users/dianagomes/secretaria/work/s2/telco_churn_project/data/raw/"

# Load the datasets
demographics = load_file(file_path + "Demographics.xlsx")
location = load_file(file_path + "Location.xlsx")

# Check data
check_data(demographics, "Demographics")
check_data(location, "Location")

# Clean column names
demographics = clean_column_names(demographics)
location = clean_column_names(location)

# Merge
merged = merge_two(demographics, location, on_column="customer_id")

# Handle missing
merged = fill_missing(merged)

# Save
processed_path = "/Users/dianagomes/secretaria/work/s2/telco_churn_project/data/processed/merged_data.csv"
save_csv(merged, processed_path)
