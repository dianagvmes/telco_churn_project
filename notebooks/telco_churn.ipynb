{
 "cells": [
  {
   "cell_type": "markdown",
   "id": "b65a173f",
   "metadata": {},
   "source": [
    "# Data Loading\n",
    "Loading the Telco Customer Churn datasets from the `data/` folder.  \n",
    "We will:\n",
    "- Define project and data paths.\n",
    "- Load all raw Excel files.\n",
    "- Preview their shapes and first rows."
   ]
  },
  {
   "cell_type": "code",
   "execution_count": null,
   "id": "e68e5dae",
   "metadata": {
    "vscode": {
     "languageId": "plaintext"
    }
   },
   "outputs": [],
   "source": [
    "import os\n",
    "import pandas as pd\n",
    "\n",
    "# Project root \n",
    "BASE = os.getcwd()\n",
    "\n",
    "# Data folder\n",
    "DATA = os.path.join(BASE, \"data\")\n"
   ]
  },
  {
   "cell_type": "code",
   "execution_count": null,
   "id": "5503e98b",
   "metadata": {
    "vscode": {
     "languageId": "plaintext"
    }
   },
   "outputs": [],
   "source": [
    "\n",
    "demographics = pd.read_excel(os.path.join(DATA, \"Telco_customer_churn_demographics.xlsx\"))\n",
    "location = pd.read_excel(os.path.join(DATA, \"Telco_customer_churn_location.xlsx\"))\n",
    "population = pd.read_excel(os.path.join(DATA, \"Telco_customer_churn_population.xlsx\"))\n",
    "services = pd.read_excel(os.path.join(DATA, \"Telco_customer_churn_services.xlsx\"))\n",
    "status = pd.read_excel(os.path.join(DATA, \"Telco_customer_churn_status.xlsx\"))\n"
   ]
  },
  {
   "cell_type": "code",
   "execution_count": null,
   "id": "65cc85a8",
   "metadata": {
    "vscode": {
     "languageId": "plaintext"
    }
   },
   "outputs": [],
   "source": [
    "# Quick overview of each dataset\n",
    "for name, df in {\n",
    "    \"Demographics\": demographics,\n",
    "    \"Location\": location,\n",
    "    \"Population\": population,\n",
    "    \"Services\": services,\n",
    "    \"Status\": status\n",
    "}.items():\n",
    "    print(f\"\\n{name} → shape: {df.shape}\")\n",
    "    display(df.head())\n",
    "    display(df.info())\n"
   ]
  }
 ],
 "metadata": {
  "language_info": {
   "name": "python"
  }
 },
 "nbformat": 4,
 "nbformat_minor": 5
}
